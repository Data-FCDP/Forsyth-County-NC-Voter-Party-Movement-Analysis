{
  "cells": [
    {
      "cell_type": "markdown",
      "metadata": {
        "id": "view-in-github",
        "colab_type": "text"
      },
      "source": [
        "<a href=\"https://colab.research.google.com/github/Data-FCDP/Forsyth-County-NC-Voter-Party-Movement-Analysis/blob/main/marshallj_(Jul_24%2C_2025%2C_10_31_40%E2%80%AFPM).ipynb\" target=\"_parent\"><img src=\"https://colab.research.google.com/assets/colab-badge.svg\" alt=\"Open In Colab\"/></a>"
      ]
    },
    {
      "cell_type": "markdown",
      "source": [
        "# 2025 County Convention Attend Match\n",
        "Creates a new table in the demsncforsythcp.commons dataset\n",
        "\n",
        "*   Create a new tablein the demsncforsythcp.commons dataset\n",
        "*   Table name: 2025_County_Convention_Attend_2\n",
        "*   AS means we're creating the table and populating it with data from a SELECT query\n",
        "\n",
        "\n",
        "\n",
        "\n"
      ],
      "metadata": {
        "id": "Ipqa4eObbEOb"
      },
      "id": "Ipqa4eObbEOb"
    },
    {
      "cell_type": "code",
      "source": [
        "CREATE TABLE `demsncforsythcp.commons.2025_County_Convention_Attend_2` AS"
      ],
      "metadata": {
        "id": "H8oNSgL8bxEk"
      },
      "id": "H8oNSgL8bxEk",
      "execution_count": null,
      "outputs": []
    },
    {
      "cell_type": "markdown",
      "source": [
        "# Required Voter File Match Columns\n",
        "matchback_id: Required by the voter file match system - uses the person's VAN\n",
        "\n",
        "*   Required Voter File Match Columns\n",
        "matchback_id: Required by the voter file match system - uses the person's VAN ID as unique\n",
        "*   state_code: Required field set to 'NC' (North Carolina) for all records\n",
        "\n",
        "\n"
      ],
      "metadata": {
        "id": "BpXpGESGb2qk"
      },
      "id": "BpXpGESGb2qk"
    },
    {
      "cell_type": "code",
      "source": [
        "es.myc_van_id as matchback_id,\n",
        "'NC' as state_code,"
      ],
      "metadata": {
        "id": "okFd1F2vcSmq"
      },
      "id": "okFd1F2vcSmq",
      "execution_count": null,
      "outputs": []
    },
    {
      "cell_type": "markdown",
      "source": [
        "# Person Id\n",
        "\n",
        "*   Keeps both the event signup VAN ID and person record VAN ID for reference\n",
        "*   These are different ID systems that link the same person\n",
        "\n"
      ],
      "metadata": {
        "id": "BO5NhDORc4YH"
      },
      "id": "BO5NhDORc4YH"
    },
    {
      "cell_type": "code",
      "source": [
        "es.myc_van_id,\n",
        "pr.myv_van_id,"
      ],
      "metadata": {
        "id": "mUF6Mr_tdDSr"
      },
      "id": "mUF6Mr_tdDSr",
      "execution_count": null,
      "outputs": []
    },
    {
      "cell_type": "markdown",
      "source": [
        "# Name Information\n",
        "\n",
        "*   Gets the person's full name from the person records table\n",
        "*   Essential for identifying convention attendees\n",
        "\n"
      ],
      "metadata": {
        "id": "LINJYcBLdGPx"
      },
      "id": "LINJYcBLdGPx"
    },
    {
      "cell_type": "code",
      "source": [
        "pr.first_name,\n",
        "pr.middle_name,\n",
        "pr.last_name,"
      ],
      "metadata": {
        "id": "fzPlO9H0dSF8"
      },
      "id": "fzPlO9H0dSF8",
      "execution_count": null,
      "outputs": []
    },
    {
      "cell_type": "markdown",
      "source": [
        "# Personal Details\n",
        "\n",
        "*   Includes birth date for demographic analysis and verification\n",
        "\n"
      ],
      "metadata": {
        "id": "Fy0fHeF5dVu3"
      },
      "id": "Fy0fHeF5dVu3"
    },
    {
      "cell_type": "code",
      "source": [
        "pr.date_of_birth,"
      ],
      "metadata": {
        "id": "-9qf054ydg9e"
      },
      "id": "-9qf054ydg9e",
      "execution_count": null,
      "outputs": []
    },
    {
      "cell_type": "markdown",
      "source": [
        "# Address Information\n",
        "\n",
        "*   Gets current address from the addresses table\n",
        "*   Used for geographic analysis and mailings\n",
        "\n"
      ],
      "metadata": {
        "id": "X-VVzVL2dj3I"
      },
      "id": "X-VVzVL2dj3I"
    },
    {
      "cell_type": "code",
      "source": [
        "addr.address,\n",
        "addr.city,\n",
        "addr.zip,"
      ],
      "metadata": {
        "id": "NyHKLKjRd1f8"
      },
      "id": "NyHKLKjRd1f8",
      "execution_count": null,
      "outputs": []
    },
    {
      "cell_type": "markdown",
      "source": [
        "# Event Details\n",
        "\n",
        "*   Captures details about the specific event (453086) they signed up for\n",
        "*   Tracks when the event occurred and their signup status\n"
      ],
      "metadata": {
        "id": "lABoFsvRd-w7"
      },
      "id": "lABoFsvRd-w7"
    },
    {
      "cell_type": "code",
      "source": [
        "es.event_signup_id,\n",
        "es.event_id,\n",
        "es.datetime_offset_begin as event_datetime,\n",
        "es.datetime_offset_end as event_end_datetime,\n",
        "es.current_event_signups_event_status_id,"
      ],
      "metadata": {
        "id": "It89bFNQeJn_"
      },
      "id": "It89bFNQeJn_",
      "execution_count": null,
      "outputs": []
    },
    {
      "cell_type": "markdown",
      "source": [
        "# Convention Tracking Fields\n",
        "\n",
        "*   Creates placeholder fields for future convention attendance tracking\n",
        "*   LAll start as NULL and can be updated later when actual attendance is confirmed\n",
        "\n"
      ],
      "metadata": {
        "id": "PLFdaYfseNch"
      },
      "id": "PLFdaYfseNch"
    },
    {
      "cell_type": "code",
      "source": [
        "CAST(NULL AS TIMESTAMP) as convention_attended_datetime,\n",
        "CAST(NULL AS STRING) as convention_attendance_status,\n",
        "CAST(NULL AS BOOLEAN) as attended_county_convention,"
      ],
      "metadata": {
        "id": "-cEXSmI0eZV-"
      },
      "id": "-cEXSmI0eZV-",
      "execution_count": null,
      "outputs": []
    },
    {
      "cell_type": "markdown",
      "source": [
        "# Metadata\n",
        "\n",
        "*   Tracks when this record was created and where the data came from\n",
        "*   Helps with data lineage and debugging\n",
        "\n"
      ],
      "metadata": {
        "id": "LDQLT-KLedDE"
      },
      "id": "LDQLT-KLedDE"
    },
    {
      "cell_type": "code",
      "source": [
        "CURRENT_TIMESTAMP() as record_created,\n",
        "'Event_453086_Signup' as source,"
      ],
      "metadata": {
        "id": "9TJIKljHeoEO"
      },
      "id": "9TJIKljHeoEO",
      "execution_count": null,
      "outputs": []
    },
    {
      "cell_type": "markdown",
      "source": [
        "# FROM and JOIN Clauses\n",
        "\n",
        "*   FROM: Starts with event signups as the main table\n",
        "*   JOIN: Links to person records to get names and details (INNER JOIN - only people with matching records)\n",
        "*   LEFT JOIN: Links to addresses (LEFT JOIN - keeps people even if no address found)\n",
        "*   datetime_suppressed IS NULL: Only gets current/active addresses\n",
        "\n",
        "\n",
        "\n"
      ],
      "metadata": {
        "id": "ifvOTJNGernQ"
      },
      "id": "ifvOTJNGernQ"
    },
    {
      "cell_type": "code",
      "source": [
        "FROM `demsncforsythcp.vansync.event_signups` es\n",
        "JOIN `demsncsp.vansync.person_records_myc` pr\n",
        "  ON es.myc_van_id = pr.myc_van_id\n",
        "LEFT JOIN `demsncforsythcp.vansync.contacts_addresses_myc` addr\n",
        "  ON es.myc_van_id = addr.myc_van_id\n",
        "  AND addr.datetime_suppressed IS NULL"
      ],
      "metadata": {
        "id": "BnBwdJ96fEl7"
      },
      "id": "BnBwdJ96fEl7",
      "execution_count": null,
      "outputs": []
    },
    {
      "cell_type": "markdown",
      "source": [
        "# WHERE Clause\n",
        "\n",
        "*   Only includes signups for the specific event (453086)\n",
        "*   Excludes cancelled signups (where datetime_suppressed is not null)\n",
        "\n"
      ],
      "metadata": {
        "id": "T05bq8cdfH27"
      },
      "id": "T05bq8cdfH27"
    },
    {
      "cell_type": "code",
      "source": [
        "WHERE es.event_id = '453086'\n",
        "  AND es.datetime_suppressed IS NULL;"
      ],
      "metadata": {
        "id": "1uK9WAxafT4p"
      },
      "id": "1uK9WAxafT4p",
      "execution_count": null,
      "outputs": []
    }
  ],
  "metadata": {
    "kernelspec": {
      "display_name": "Python 3",
      "language": "python",
      "name": "python3"
    },
    "language_info": {
      "codemirror_mode": {
        "name": "ipython",
        "version": 3
      },
      "file_extension": ".py",
      "mimetype": "text/x-python",
      "name": "python",
      "nbconvert_exporter": "python",
      "pygments_lexer": "ipython3",
      "version": "3.10.10"
    },
    "colab": {
      "provenance": [],
      "include_colab_link": true
    }
  },
  "nbformat": 4,
  "nbformat_minor": 5
}